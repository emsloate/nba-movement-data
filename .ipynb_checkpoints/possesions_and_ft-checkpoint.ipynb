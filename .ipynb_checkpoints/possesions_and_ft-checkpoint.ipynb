{
 "cells": [
  {
   "cell_type": "code",
   "execution_count": 17,
   "metadata": {
    "collapsed": true
   },
   "outputs": [],
   "source": [
    "import numpy as np\n",
    "import pandas as pd\n",
    "import json\n",
    "import time"
   ]
  },
  {
   "cell_type": "code",
   "execution_count": 18,
   "metadata": {
    "collapsed": true
   },
   "outputs": [],
   "source": [
    "from nba_api.stats.endpoints import playercareerstats\n",
    "from nba_api.stats.endpoints import playergamelog\n",
    "from nba_api.stats.endpoints import ScoreboardV2\n",
    "from nba_api.stats.endpoints import BoxScoreAdvancedV2\n",
    "from nba_api.stats.endpoints import BoxScoreTraditionalV2\n",
    "from nba_api.stats.endpoints import playerdashptshots\n",
    "from nba_api.stats.endpoints import playerdashboardbyshootingsplits\n",
    "from nba_api.stats.static import players\n",
    "from nba_api.stats.endpoints import commonteamroster\n",
    "from nba_api.stats.static import teams\n"
   ]
  },
  {
   "cell_type": "markdown",
   "metadata": {},
   "source": [
    "Getting player career ft percentages, merging with free throw box score stats from games to get expected points from free throws\n",
    "Also get net ratings, number of possesions for each team in each game"
   ]
  },
  {
   "cell_type": "code",
   "execution_count": 15,
   "metadata": {
    "collapsed": true
   },
   "outputs": [],
   "source": [
    "#these are all the games in the last quarter of the dataset\n",
    "games = [21500483, 21500479, 21500482, 21500478, 21500475, 21500476,\n",
    "       21500480, 21500481, 21500474, 21500489, 21500488, 21500487,\n",
    "       21500486, 21500485, 21500484, 21500490, 21500492, 21500493,\n",
    "       21500494, 21500491, 21500496, 21500495, 21500505, 21500498,\n",
    "       21500497, 21500500, 21500501, 21500504, 21500499, 21500503,\n",
    "       21500502, 21500509, 21500506, 21500507, 21500508, 21500510,\n",
    "       21500513, 21500517, 21500516, 21500515, 21500520, 21500518,\n",
    "       21500514, 21500511, 21500512, 21500519, 21500521, 21500522,\n",
    "       21500524, 21500523, 21500528, 21500535, 21500527, 21500531,\n",
    "       21500533, 21500532, 21500534, 21500529, 21500526, 21500530,\n",
    "       21500525, 21500538, 21500537, 21500539, 21500536, 21500547,\n",
    "       21500543, 21500540, 21500548, 21500542, 21500545, 21500549,\n",
    "       21500546, 21500541, 21500544, 21500555, 21500552, 21500553,\n",
    "       21500556, 21500554, 21500550, 21500551, 21500563, 21500560,\n",
    "       21500557, 21500564, 21500561, 21500559, 21500565, 21500558,\n",
    "       21500562, 21500568, 21500566, 21500567, 21500576, 21500572,\n",
    "       21500570, 21500574, 21500569, 21500575, 21500571, 21500573,\n",
    "       21500577, 21500584, 21500578, 21500586, 21500585, 21500580,\n",
    "       21500582, 21500581, 21500579, 21500592, 21500591, 21500598,\n",
    "       21500599, 21500593, 21500597, 21500595, 21500594, 21500601,\n",
    "       21500596, 21500617, 21500619, 21500618, 21500622, 21500615,\n",
    "       21500616, 21500621, 21500624, 21500620, 21500623, 21500627,\n",
    "       21500625, 21500628, 21500626, 21500635, 21500636, 21500633,\n",
    "       21500639, 21500631, 21500632, 21500638, 21500637, 21500634,\n",
    "       21500630, 21500629, 21500653, 21500652, 21500649, 21500645,\n",
    "       21500646, 21500650, 21500648, 21500651, 21500647, 21500663,\n",
    "       21500660, 21500657, 21500655, 21500662, 21500658, 21500661]\n",
    "str_games = []\n",
    "#game ids have 00 to start in the NBA Api \n",
    "for game in games:\n",
    "    str_game = str(game)\n",
    "    str_game = \"00\" + str_game\n",
    "    str_games.append(str_game)"
   ]
  },
  {
   "cell_type": "code",
   "execution_count": 41,
   "metadata": {
    "collapsed": true
   },
   "outputs": [],
   "source": [
    "game_ratings = []\n",
    "#get offensive ratings and # of possessions for each team in each game\n",
    "for game_id in str_games:\n",
    "    bsa = BoxScoreAdvancedV2(game_id=game_id)\n",
    "    ratings= bsa.get_data_frames()[1][['GAME_ID','TEAM_ID','POSS','NET_RATING']].values\n",
    "    team1 = ratings[0]\n",
    "    team2 = ratings[1]\n",
    "    game_ratings.append(team1)\n",
    "    game_ratings.append(team2)"
   ]
  },
  {
   "cell_type": "code",
   "execution_count": 48,
   "metadata": {
    "collapsed": true
   },
   "outputs": [],
   "source": [
    "#save rating data\n",
    "pd.DataFrame(game_ratings,columns = ['GAME_ID','TEAM_ID','POSSESIONS','NET_RATING']).to_csv(\"possesions_ratings.csv\")"
   ]
  },
  {
   "cell_type": "code",
   "execution_count": 19,
   "metadata": {
    "collapsed": true
   },
   "outputs": [],
   "source": [
    "game_fta = []\n",
    "#get free throw attempts for each player in the games we are examining\n",
    "for game_id in str_games:\n",
    "    bsa = BoxScoreTraditionalV2(game_id=game_id)\n",
    "    game_fta.append(bsa.get_data_frames()[0][['GAME_ID', 'TEAM_ID','PLAYER_ID','FTA']])\n",
    "#save box score free throw stats to a csv\n",
    "pd.concat(game_fta).to_csv(\"./data/free_throw_attemps.csv\")"
   ]
  },
  {
   "cell_type": "code",
   "execution_count": 20,
   "metadata": {
    "collapsed": true
   },
   "outputs": [],
   "source": [
    "#the fta csv contains all players on each roster in the games we care about, so only need to get player ids from here\n",
    "fta_df = pd.read_csv(\"./data/free_throw_attemps.csv\")\n",
    "players = fta_df['PLAYER_ID'].unique()"
   ]
  },
  {
   "cell_type": "code",
   "execution_count": 39,
   "metadata": {
    "collapsed": true
   },
   "outputs": [],
   "source": [
    "player_fts = {}\n",
    "for player_id in players:\n",
    "    #get career ft % for each player before 2015-16\n",
    "    pcs = playercareerstats.PlayerCareerStats(player_id=player_id)\n",
    "    df = pcs.get_data_frames()[0]\n",
    "    df = df[df['SEASON_ID'] < '2015-16']\n",
    "    ftm = df['FTM'].sum()\n",
    "    fta = df['FTA'].sum()\n",
    "    #\"regression to the mean\". really basic, average ft% is 75%. This probably could be done better\n",
    "    if fta > 0:\n",
    "        if fta < 20:\n",
    "            ftm += 15\n",
    "            fta += 20\n",
    "        ftp = ftm / fta\n",
    "    else:\n",
    "        ftp = 0.75\n",
    "    #data saved in dictionary mapping player ft% to player id\n",
    "    player_fts[player_id] = ftp\n",
    "    time.sleep(2)"
   ]
  },
  {
   "cell_type": "code",
   "execution_count": 41,
   "metadata": {
    "collapsed": true
   },
   "outputs": [],
   "source": [
    "#get data from player_fts dictionary\n",
    "fta_df['player_ft%'] = fta_df['PLAYER_ID'].apply(lambda x: player_fts[x])\n",
    "#get expected points from FT\n",
    "fta_df['xFTP'] = fta_df['FTA'] * fta_df['player_ft%']"
   ]
  },
  {
   "cell_type": "code",
   "execution_count": 45,
   "metadata": {
    "collapsed": true
   },
   "outputs": [],
   "source": [
    "#save expected free throw points to csv\n",
    "fta_df.to_csv(\"free_throw_points.csv\")"
   ]
  },
  {
   "cell_type": "code",
   "execution_count": null,
   "metadata": {
    "collapsed": true
   },
   "outputs": [],
   "source": []
  }
 ],
 "metadata": {
  "anaconda-cloud": {},
  "kernelspec": {
   "display_name": "Python [default]",
   "language": "python",
   "name": "python3"
  },
  "language_info": {
   "codemirror_mode": {
    "name": "ipython",
    "version": 3
   },
   "file_extension": ".py",
   "mimetype": "text/x-python",
   "name": "python",
   "nbconvert_exporter": "python",
   "pygments_lexer": "ipython3",
   "version": "3.5.2"
  }
 },
 "nbformat": 4,
 "nbformat_minor": 4
}
