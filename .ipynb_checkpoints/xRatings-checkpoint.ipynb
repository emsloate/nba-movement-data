{
 "cells": [
  {
   "cell_type": "code",
   "execution_count": 1,
   "metadata": {
    "collapsed": true
   },
   "outputs": [],
   "source": [
    "import pandas as pd\n",
    "import numpy as np\n",
    "import matplotlib.pyplot as plt\n",
    "import nba_api\n",
    "import math\n",
    "import time"
   ]
  },
  {
   "cell_type": "markdown",
   "metadata": {},
   "source": [
    "Net Rating Analysis Using Expected Points"
   ]
  },
  {
   "cell_type": "code",
   "execution_count": 2,
   "metadata": {
    "collapsed": true
   },
   "outputs": [],
   "source": [
    "#getting features from public model to estimate xP\n",
    "def time_remaining(period,minutes,seconds):\n",
    "    mins = 0\n",
    "    if period == 1:\n",
    "        mins = 36\n",
    "    elif period == 2:\n",
    "        mins = 24\n",
    "    elif period == 3:\n",
    "        mins = 12\n",
    "    mins = mins + minutes\n",
    "    secs = mins * 60\n",
    "    secs = secs + seconds\n",
    "    return secs\n",
    "#theres like 40 different action types, group them together\n",
    "def shot_type(shot_name):\n",
    "    shot_name = shot_name.lower()\n",
    "    if \"dunk\" in shot_name:\n",
    "        return \"Dunk\"\n",
    "    elif \"layup\" in shot_name:\n",
    "        return \"Layup\"\n",
    "    elif \"jump shot\" in shot_name:\n",
    "        return \"Jump Shot\"\n",
    "    elif \"hook\" in shot_name:\n",
    "        return \"Hook\"\n",
    "    else:\n",
    "        return \"Other\""
   ]
  },
  {
   "cell_type": "code",
   "execution_count": 75,
   "metadata": {
    "collapsed": true
   },
   "outputs": [],
   "source": [
    "#get nba_savant shot data\n",
    "savant = [pd.read_csv(\"./data/nba_savant.csv\"),pd.read_csv(\"./data/nba_savant_1.csv\"),pd.read_csv(\"./data/nba_savant_2.csv\")]\n",
    "savant_shots = pd.concat(savant)\n",
    "savant_shots['game_date'] =  pd.to_datetime(savant_shots['game_date'])\n",
    "#get shot data from sportvu\n",
    "all_shots = pd.read_csv(\"./data/all_shots_raw.csv\")\n",
    "all_shots['GAME_DATE'] = pd.to_datetime(all_shots['GAME_DATE'],format = \"%Y-%m-%d\")"
   ]
  },
  {
   "cell_type": "code",
   "execution_count": 81,
   "metadata": {
    "collapsed": true
   },
   "outputs": [],
   "source": [
    "#left join so we keep shots missed by sportvu data\n",
    "final_df = savant_shots.merge(all_shots,how='left',right_on=['TEAM_NAME','PERIOD','MINUTES_REMAINING','SECONDS_REMAINING','GAME_DATE'],left_on=['team_name','period','minutes_remaining','seconds_remaining','game_date'])"
   ]
  },
  {
   "cell_type": "code",
   "execution_count": 86,
   "metadata": {
    "collapsed": true
   },
   "outputs": [],
   "source": [
    "final_df['shot_action_type'] = final_df['action_type'].apply(lambda x: shot_type(x))\n",
    "one_hot_shot_action_type = pd.get_dummies(final_df['shot_action_type'])\n",
    "one_hot_shot_type = pd.get_dummies(final_df['shot_type'])\n",
    "#switch out categorical variables for numeric\n",
    "final_df = final_df.join([one_hot_shot_type,one_hot_shot_action_type])\n",
    "#time remaining instead of 3 variables\n",
    "final_df['time_remaining'] = final_df.apply(lambda x: time_remaining(x['period'],x['minutes_remaining'],x['seconds_remaining']),axis = 1)"
   ]
  },
  {
   "cell_type": "code",
   "execution_count": 87,
   "metadata": {
    "collapsed": true
   },
   "outputs": [],
   "source": [
    "#all games we want to estimate for, approximately 25% of dataset\n",
    "games = [21500483, 21500479, 21500482, 21500478, 21500475, 21500476,\n",
    "       21500480, 21500481, 21500474, 21500489, 21500488, 21500487,\n",
    "       21500486, 21500485, 21500484, 21500490, 21500492, 21500493,\n",
    "       21500494, 21500491, 21500496, 21500495, 21500505, 21500498,\n",
    "       21500497, 21500500, 21500501, 21500504, 21500499, 21500503,\n",
    "       21500502, 21500509, 21500506, 21500507, 21500508, 21500510,\n",
    "       21500513, 21500517, 21500516, 21500515, 21500520, 21500518,\n",
    "       21500514, 21500511, 21500512, 21500519, 21500521, 21500522,\n",
    "       21500524, 21500523, 21500528, 21500535, 21500527, 21500531,\n",
    "       21500533, 21500532, 21500534, 21500529, 21500526, 21500530,\n",
    "       21500525, 21500538, 21500537, 21500539, 21500536, 21500547,\n",
    "       21500543, 21500540, 21500548, 21500542, 21500545, 21500549,\n",
    "       21500546, 21500541, 21500544, 21500555, 21500552, 21500553,\n",
    "       21500556, 21500554, 21500550, 21500551, 21500563, 21500560,\n",
    "       21500557, 21500564, 21500561, 21500559, 21500565, 21500558,\n",
    "       21500562, 21500568, 21500566, 21500567, 21500576, 21500572,\n",
    "       21500570, 21500574, 21500569, 21500575, 21500571, 21500573,\n",
    "       21500577, 21500584, 21500578, 21500586, 21500585, 21500580,\n",
    "       21500582, 21500581, 21500579, 21500592, 21500591, 21500598,\n",
    "       21500599, 21500593, 21500597, 21500595, 21500594, 21500601,\n",
    "       21500596, 21500617, 21500619, 21500618, 21500622, 21500615,\n",
    "       21500616, 21500621, 21500624, 21500620, 21500623, 21500627,\n",
    "       21500625, 21500628, 21500626, 21500635, 21500636, 21500633,\n",
    "       21500639, 21500631, 21500632, 21500638, 21500637, 21500634,\n",
    "       21500630, 21500629, 21500653, 21500652, 21500649, 21500645,\n",
    "       21500646, 21500650, 21500648, 21500651, 21500647, 21500663,\n",
    "       21500660, 21500657, 21500655, 21500662, 21500658, 21500661]"
   ]
  },
  {
   "cell_type": "code",
   "execution_count": 89,
   "metadata": {
    "collapsed": true
   },
   "outputs": [],
   "source": [
    "#train is for model to train on, test is to calculate xRating\n",
    "train_df = final_df[~final_df['GAME_ID'].isin(games)]\n",
    "test_df = final_df[final_df['GAME_ID'].isin(games)]"
   ]
  },
  {
   "cell_type": "code",
   "execution_count": 90,
   "metadata": {
    "collapsed": true
   },
   "outputs": [],
   "source": [
    "#train_df columns are features + label\n",
    "train_df = train_df[['shot_made_flag', 'shot_distance','Dunk',\n",
    "       'Hook', 'Jump Shot', 'Layup', 'Other', '2PT Field Goal', '3PT Field Goal','time_remaining', \n",
    "        'x', 'y','shot_clock']]\n",
    "#test_df keeps info about he games so we can do totals\n",
    "test_df = test_df[['GAME_ID','GAME_DATE','TEAM_ID','PLAYER_ID','PLAYER_ID',\n",
    "       'shot_made_flag', 'shot_distance', 'Dunk',\n",
    "       'Hook', 'Jump Shot', 'Layup', 'Other','2PT Field Goal', '3PT Field Goal','time_remaining',\n",
    "       'x', 'y','shot_clock']]"
   ]
  },
  {
   "cell_type": "code",
   "execution_count": 94,
   "metadata": {
    "collapsed": true
   },
   "outputs": [],
   "source": [
    "#randomize train_set again\n",
    "train_df = train_df.sample(frac = 1)\n",
    "#split\n",
    "y_train = train_df['shot_made_flag'].values\n",
    "X_train = train_df.drop(\"shot_made_flag\",axis = 1).values\n",
    "#test set is what we will use for our esimates\n",
    "y_test = test_df['shot_made_flag'].values\n",
    "X_test = test_df[['shot_distance','Dunk',\n",
    "       'Hook', 'Jump Shot', 'Layup', 'Other', '2PT Field Goal', '3PT Field Goal','time_remaining', \n",
    "        'x', 'y','shot_clock']].values"
   ]
  },
  {
   "cell_type": "code",
   "execution_count": 95,
   "metadata": {
    "collapsed": false
   },
   "outputs": [
    {
     "name": "stdout",
     "output_type": "stream",
     "text": [
      "0.624237654928192\n"
     ]
    }
   ],
   "source": [
    "from sklearn.ensemble import GradientBoostingClassifier\n",
    "#train model\n",
    "gb_clf = GradientBoostingClassifier()\n",
    "gb_clf.fit(X_train,y_train)\n",
    "print(gb_clf.score(X_test,y_test))"
   ]
  },
  {
   "cell_type": "code",
   "execution_count": 92,
   "metadata": {
    "collapsed": true
   },
   "outputs": [],
   "source": [
    "shot_probs = gb_clf.predict_proba(X_test)[:,1]\n",
    "#probability shot went in\n",
    "test_df['shot_probs'] = shot_probs"
   ]
  },
  {
   "cell_type": "code",
   "execution_count": 96,
   "metadata": {
    "collapsed": false
   },
   "outputs": [
    {
     "data": {
      "text/plain": [
       "45199     1.849417\n",
       "45201     1.824082\n",
       "45203     1.471723\n",
       "45205     1.800850\n",
       "45209     1.826416\n",
       "            ...   \n",
       "111722    0.699346\n",
       "111724    0.701544\n",
       "111725    0.751614\n",
       "111726    0.806430\n",
       "111727    0.702761\n",
       "Name: xPts, Length: 25415, dtype: float64"
      ]
     },
     "execution_count": 96,
     "metadata": {},
     "output_type": "execute_result"
    }
   ],
   "source": [
    "# probability * is it a two pointer * 2 + probability * is it a three pointer * 3. One of these will be zero so can add both\n",
    "test_df['xPts'] = test_df['shot_probs'] * test_df['2PT Field Goal'] * 2\n",
    "test_df['xPts'] = test_df['xPts'] + test_df['shot_probs'] * test_df['3PT Field Goal'] * 3\n",
    "#get expected points from field goals in that game\n",
    "fg_xpts = test_df.groupby(['GAME_ID','TEAM_ID','GAME_DATE']).agg({'xPts':'sum'}).reset_index()\n",
    "valid_games = fg_xpts.groupby(['GAME_ID']).count()['TEAM_ID'] == 2\n",
    "#some games (9) only have points for one team?\n",
    "valid_games = valid_games[valid_games]\n",
    "#get expected points for field goals for valid games\n",
    "fg_xpts = fg_xpts[fg_xpts['GAME_ID'].isin(valid_games.index.values)]"
   ]
  },
  {
   "cell_type": "code",
   "execution_count": 203,
   "metadata": {
    "collapsed": true
   },
   "outputs": [],
   "source": [
    "#get xpts from free throws, number of poessesions\n",
    "ft_xpts = pd.read_csv(\"./data/free_throw_points.csv\")\n",
    "ft_totals = ft_xpts.groupby(['GAME_ID','TEAM_ID']).agg({'xFTP':'sum'}).reset_index()\n",
    "#get total xpts\n",
    "total_xpts = fg_xpts.merge(ft_totals,on=['GAME_ID','TEAM_ID'])\n",
    "total_xpts['xTotal'] = total_xpts['xPts'] + total_xpts['xFTP']\n",
    "#get number of possessions, actual net rating for each team and merge\n",
    "possesions_and_ratings = pd.read_csv(\"./data/possesions_ratings.csv\")\n",
    "total_xpts = total_xpts.merge(possesions_and_ratings,on=['GAME_ID','TEAM_ID']).drop('Unnamed: 0',axis = 1)\n",
    "#calculate expected points rating\n",
    "total_xpts['xRating'] = total_xpts['xTotal'] / total_xpts['POSSESIONS'] * 100\n",
    "#get rating for home and away in each game\n",
    "total_xpts['home_rating'] = total_xpts.groupby('GAME_ID')['xRating'].shift(1)\n",
    "total_xpts['visitor_rating'] = total_xpts.groupby('GAME_ID')['xRating'].shift(-1)"
   ]
  },
  {
   "cell_type": "code",
   "execution_count": 204,
   "metadata": {
    "collapsed": true
   },
   "outputs": [],
   "source": [
    "#calculate net rating by determing if we are home or away then subtracting other team's rating\n",
    "def xNetRating(xrating,home,away):\n",
    "    if math.isnan(home):\n",
    "        return xrating - away\n",
    "    elif math.isnan(away):\n",
    "        return xrating - home"
   ]
  },
  {
   "cell_type": "code",
   "execution_count": 205,
   "metadata": {
    "collapsed": true
   },
   "outputs": [],
   "source": [
    "#calculate net ratings home and away xP offensive ratings\n",
    "total_xpts['xNet_Rating'] = total_xpts.apply(lambda x: xNetRating(x.xRating,x.home_rating,x.visitor_rating),axis = 1)\n",
    "#get average expected, actual net ratings\n",
    "team_games = total_xpts.groupby('TEAM_ID').agg({'GAME_DATE':'count'})\n",
    "team_last_game = total_xpts.groupby('TEAM_ID').agg({'GAME_DATE':'max'})\n",
    "average_net_ratings = total_xpts.groupby('TEAM_ID').agg({'xNet_Rating':'mean','NET_RATING':'mean'})"
   ]
  },
  {
   "cell_type": "code",
   "execution_count": 230,
   "metadata": {
    "collapsed": true
   },
   "outputs": [],
   "source": [
    "#merge with data about teams schedule\n",
    "team_games_ratings = total_net_ratings.merge(team_games,on='TEAM_ID').merge(team_last_game,on='TEAM_ID').rename({'GAME_DATE_x':'num_games','GAME_DATE_y':'last_game'},axis = 1)\n",
    "#get list of team ids\n",
    "team_list = team_games_ratings.index.values.astype(\"int64\")"
   ]
  },
  {
   "cell_type": "code",
   "execution_count": 297,
   "metadata": {
    "collapsed": true
   },
   "outputs": [],
   "source": [
    "from nba_api.stats.endpoints import teamgamelogs\n",
    "team_future_games = []\n",
    "#get all future games we are tring to predict for each team\n",
    "for team_id in team_list:\n",
    "    team_log = teamgamelogs.TeamGameLogs(season_nullable=\"2015-16\",team_id_nullable = team_id)\n",
    "    team_gamedf = team_log.get_data_frames()[0]\n",
    "    #sort by datetime, get games after the last game we have for them\n",
    "    team_gamedf['GAME_DATE'] = pd.to_datetime(team_gamedf['GAME_DATE'],format=\"%Y-%m-%d\")\n",
    "    tgdf = team_gamedf[team_gamedf['GAME_DATE'] > team_games_ratings.loc[team_id]['last_game']]\n",
    "    #get the number of games we used to get their xRating\n",
    "    num_games = team_games_ratings.loc[team_id]['num_games']\n",
    "    tgdf = tgdf.sort_values(by='GAME_DATE').iloc[0:num_games][['TEAM_ID','GAME_ID']]\n",
    "    team_future_games.append(tgdf)\n",
    "    time.sleep(2)\n",
    "\n",
    "#concat all these dfs together\n",
    "prediction_games = pd.concat(team_future_games)\n",
    "prediction_games = prediction_games.groupby(\"TEAM_ID\")['GAME_ID'].apply(list).reset_index(name='games')"
   ]
  },
  {
   "cell_type": "code",
   "execution_count": 309,
   "metadata": {
    "collapsed": true
   },
   "outputs": [
    {
     "name": "stdout",
     "output_type": "stream",
     "text": [
      "0021500672\n",
      "0021500687\n",
      "0021500692\n",
      "0021500715\n",
      "0021500723\n",
      "0021500736\n",
      "0021500750\n",
      "0021500771\n",
      "0021500780\n",
      "0021500656\n",
      "0021500668\n",
      "0021500685\n",
      "0021500698\n",
      "0021500716\n",
      "0021500730\n",
      "0021500737\n",
      "0021500755\n",
      "0021500773\n",
      "0021500786\n",
      "0021500792\n",
      "0021500817\n",
      "0021500640\n",
      "0021500659\n",
      "0021500667\n",
      "0021500684\n",
      "0021500699\n",
      "0021500713\n",
      "0021500721\n",
      "0021500735\n",
      "0021500755\n",
      "0021500671\n",
      "0021500696\n",
      "0021500710\n",
      "0021500724\n",
      "0021500742\n",
      "0021500747\n",
      "0021500763\n",
      "0021500782\n",
      "0021500798\n",
      "0021500659\n",
      "0021500669\n",
      "0021500697\n",
      "0021500714\n",
      "0021500728\n",
      "0021500744\n",
      "0021500757\n",
      "0021500766\n",
      "0021500774\n",
      "0021500796\n",
      "0021500803\n",
      "0021500809\n",
      "0021500665\n",
      "0021500683\n",
      "0021500691\n",
      "0021500702\n",
      "0021500717\n",
      "0021500723\n",
      "0021500741\n",
      "0021500759\n",
      "0021500765\n",
      "0021500787\n",
      "0021500805\n",
      "0021500830\n",
      "0021500852\n",
      "0021500672\n",
      "0021500685\n",
      "0021500693\n",
      "0021500709\n",
      "0021500727\n",
      "0021500743\n",
      "0021500757\n",
      "0021500770\n",
      "0021500675\n",
      "0021500691\n",
      "0021500707\n",
      "0021500718\n",
      "0021500739\n",
      "0021500769\n",
      "0021500788\n",
      "0021500799\n",
      "0021500815\n",
      "0021500822\n",
      "0021500836\n",
      "0021500848\n",
      "0021500665\n",
      "0021500671\n",
      "0021500689\n",
      "0021500701\n",
      "0021500711\n",
      "0021500731\n",
      "0021500749\n",
      "0021500760\n",
      "0021500788\n",
      "0021500800\n",
      "0021500683\n",
      "0021500697\n",
      "0021500706\n",
      "0021500720\n",
      "0021500734\n",
      "0021500747\n",
      "0021500767\n",
      "0021500776\n",
      "0021500795\n",
      "0021500818\n",
      "0021500831\n",
      "0021500837\n",
      "0021500669\n",
      "0021500678\n",
      "0021500703\n",
      "0021500715\n",
      "0021500731\n",
      "0021500741\n",
      "0021500751\n",
      "0021500772\n",
      "0021500784\n",
      "0021500808\n",
      "0021500681\n",
      "0021500695\n",
      "0021500703\n",
      "0021500729\n",
      "0021500733\n",
      "0021500758\n",
      "0021500786\n",
      "0021500801\n",
      "0021500813\n",
      "0021500819\n",
      "0021500837\n",
      "0021500856\n",
      "0021500667\n",
      "0021500688\n",
      "0021500704\n",
      "0021500719\n",
      "0021500734\n",
      "0021500745\n",
      "0021500766\n",
      "0021500782\n",
      "0021500797\n",
      "0021500810\n",
      "0021500821\n",
      "0021500838\n",
      "0021500849\n",
      "0021500664\n",
      "0021500678\n",
      "0021500702\n",
      "0021500710\n",
      "0021500722\n",
      "0021500738\n",
      "0021500754\n",
      "0021500764\n",
      "0021500778\n",
      "0021500793\n",
      "0021500807\n",
      "0021500827\n",
      "0021500679\n",
      "0021500694\n",
      "0021500700\n",
      "0021500718\n",
      "0021500730\n",
      "0021500746\n",
      "0021500756\n",
      "0021500770\n",
      "0021500785\n",
      "0021500807\n",
      "0021500821\n",
      "0021500670\n",
      "0021500681\n",
      "0021500698\n",
      "0021500716\n",
      "0021500726\n",
      "0021500740\n",
      "0021500752\n",
      "0021500771\n",
      "0021500780\n",
      "0021500790\n",
      "0021500676\n",
      "0021500692\n",
      "0021500709\n",
      "0021500721\n",
      "0021500738\n",
      "0021500750\n",
      "0021500762\n",
      "0021500776\n",
      "0021500789\n",
      "0021500812\n",
      "0021500828\n",
      "0021500834\n",
      "0021500846\n",
      "0021500656\n",
      "0021500677\n",
      "0021500686\n",
      "0021500707\n",
      "0021500736\n",
      "0021500753\n",
      "0021500764\n",
      "0021500777\n",
      "0021500677\n",
      "0021500684\n",
      "0021500700\n",
      "0021500717\n",
      "0021500732\n",
      "0021500749\n",
      "0021500768\n",
      "0021500783\n",
      "0021500799\n",
      "0021500814\n",
      "0021500682\n",
      "0021500705\n",
      "0021500719\n",
      "0021500733\n",
      "0021500748\n",
      "0021500760\n",
      "0021500781\n",
      "0021500800\n",
      "0021500815\n",
      "0021500832\n",
      "0021500844\n",
      "0021500674\n",
      "0021500682\n",
      "0021500696\n",
      "0021500712\n",
      "0021500729\n",
      "0021500744\n",
      "0021500754\n",
      "0021500773\n",
      "0021500775\n",
      "0021500791\n",
      "0021500675\n",
      "0021500689\n",
      "0021500713\n",
      "0021500726\n",
      "0021500742\n",
      "0021500759\n",
      "0021500767\n",
      "0021500784\n",
      "0021500664\n",
      "0021500679\n",
      "0021500688\n",
      "0021500701\n",
      "0021500725\n",
      "0021500740\n",
      "0021500769\n",
      "0021500783\n",
      "0021500802\n",
      "0021500812\n",
      "0021500824\n",
      "0021500852\n",
      "0021500666\n",
      "0021500680\n",
      "0021500694\n",
      "0021500708\n",
      "0021500727\n",
      "0021500732\n",
      "0021500748\n",
      "0021500779\n",
      "0021500797\n",
      "0021500673\n",
      "0021500690\n",
      "0021500704\n",
      "0021500728\n",
      "0021500743\n",
      "0021500758\n",
      "0021500768\n",
      "0021500787\n",
      "0021500798\n",
      "0021500654\n",
      "0021500817\n",
      "0021500832\n",
      "0021500843\n",
      "0021500670\n",
      "0021500695\n",
      "0021500712\n",
      "0021500724\n",
      "0021500756\n",
      "0021500765\n",
      "0021500781\n",
      "0021500793\n",
      "0021500668\n",
      "0021500680\n",
      "0021500693\n",
      "0021500711\n",
      "0021500725\n",
      "0021500739\n",
      "0021500753\n",
      "0021500761\n",
      "0021500785\n",
      "0021500801\n",
      "0021500673\n",
      "0021500686\n",
      "0021500699\n",
      "0021500708\n",
      "0021500722\n",
      "0021500737\n",
      "0021500746\n",
      "0021500762\n",
      "0021500779\n",
      "0021500674\n",
      "0021500690\n",
      "0021500705\n",
      "0021500720\n",
      "0021500735\n",
      "0021500751\n",
      "0021500761\n",
      "0021500774\n",
      "0021500789\n",
      "0021500813\n",
      "0021500827\n"
     ]
    }
   ],
   "source": [
    "from nba_api.stats.endpoints import BoxScoreAdvancedV2\n",
    "game_ratings = []\n",
    "\n",
    "#get net ratings for each team\n",
    "for i in range(len(prediction_games)):\n",
    "    team_id = prediction_games.loc[i]['TEAM_ID']\n",
    "    team_games = prediction_games.loc[i]['games']\n",
    "    for game in team_games:\n",
    "        print(game)\n",
    "        bsa = BoxScoreAdvancedV2(game_id=game)\n",
    "        ratings= bsa.get_data_frames()[1][['GAME_ID','TEAM_ID','NET_RATING']]\n",
    "        ratings = ratings[ratings['TEAM_ID'] == team_id]\n",
    "        #game ratings is a single row DF\n",
    "        game_ratings.append(ratings)\n",
    "        time.sleep(2)"
   ]
  },
  {
   "cell_type": "code",
   "execution_count": 317,
   "metadata": {
    "collapsed": true
   },
   "outputs": [],
   "source": [
    "#future_ratings should be df where each row is a team and their net rating for a game\n",
    "future_ratings = pd.concat(game_ratings).groupby('TEAM_ID').agg({'NET_RATING':'mean'}).reset_index()\n",
    "#rename for analysis sake\n",
    "future_ratings = future_ratings.rename({'NET_RATING':'future_net_rating'},axis = 1)\n",
    "#merge with old df so we can do analysis\n",
    "team_games_ratings = team_games_ratings.reset_index().merge(future_ratings,on='TEAM_ID')\n",
    "#save\n",
    "team_games_ratings.to_csv(\"./data/net_ratings.csv\")\n",
    "team_games_ratings.head()"
   ]
  },
  {
   "cell_type": "code",
   "execution_count": 6,
   "metadata": {
    "collapsed": true
   },
   "outputs": [],
   "source": [
    "from sklearn.linear_model import LinearRegression\n",
    "#team_games_ratings = pd.read_csv(\"./data/net_ratings.csv\")\n",
    "#get the data we want for our regression analysis\n",
    "x_ratings = team_games_ratings['xNet_Rating'].values.reshape(-1,1)\n",
    "real_ratings = team_games_ratings['NET_RATING'].values.reshape(-1,1)\n",
    "future_ratings = team_games_ratings['future_net_rating'].values"
   ]
  },
  {
   "cell_type": "code",
   "execution_count": 26,
   "metadata": {
    "collapsed": false
   },
   "outputs": [
    {
     "name": "stdout",
     "output_type": "stream",
     "text": [
      "R^2, xRating:  -0.010321031028612815\n",
      "R^2, Real Rating:  0.35461796170120086\n"
     ]
    }
   ],
   "source": [
    "# do the regression\n",
    "lr = LinearRegression()\n",
    "lr.fit(x_ratings,real_ratings)\n",
    "print(\"R^2, xRating: \",lr.score(x_ratings,future_ratings))\n",
    "lr = LinearRegression()\n",
    "lr.fit(real_ratings,future_ratings)\n",
    "print(\"R^2, Real Rating: \",lr.score(real_ratings,future_ratings))"
   ]
  },
  {
   "cell_type": "code",
   "execution_count": 32,
   "metadata": {
    "collapsed": false
   },
   "outputs": [
    {
     "data": {
      "image/png": "[encoded data removed]",
      "text/plain": [
       "<Figure size 432x288 with 1 Axes>"
      ]
     },
     "metadata": {},
     "output_type": "display_data"
    },
    {
     "data": {
      "image/png": "[encoded data removed]",
      "text/plain": [
       "<Figure size 432x288 with 1 Axes>"
      ]
     },
     "metadata": {},
     "output_type": "display_data"
    }
   ],
   "source": [
    "import seaborn as sns\n",
    "sns.set()\n",
    "\n",
    "\n",
    "fig,ax = plt.subplots()\n",
    "ax = sns.regplot(x_ratings,future_ratings,scatter_kws={'color':'royalblue'},line_kws={'color':'midnightblue','label':'$R^2$: 0.095'})\n",
    "ax.legend(loc=\"best\")\n",
    "ax.set_xlabel(\"xNetRating over n (8-13) games\")\n",
    "ax.set_ylabel(\"Net Rating over next n (8-13) games\")\n",
    "ax.set_title(\"Predictig Net Rating using xNetRating\")\n",
    "plt.show()\n",
    "\n",
    "fig,ax = plt.subplots()\n",
    "ax = sns.regplot(real_ratings,future_ratings,scatter_kws={'color':'royalblue'},line_kws={'color':'midnightblue','label':'$R^2$: 0.345'})\n",
    "ax.legend(loc=\"best\")\n",
    "ax.set_xlabel(\"Net Rating over n (8-13) games\")\n",
    "ax.set_ylabel(\"Net Rating over next (8-13) games\")\n",
    "ax.set_title(\"Predictig Net Rating using Actual Net Rating\")\n",
    "plt.show()"
   ]
  },
  {
   "cell_type": "code",
   "execution_count": null,
   "metadata": {
    "collapsed": true
   },
   "outputs": [],
   "source": []
  }
 ],
 "metadata": {
  "anaconda-cloud": {},
  "kernelspec": {
   "display_name": "Python [default]",
   "language": "python",
   "name": "python3"
  },
  "language_info": {
   "codemirror_mode": {
    "name": "ipython",
    "version": 3
   },
   "file_extension": ".py",
   "mimetype": "text/x-python",
   "name": "python",
   "nbconvert_exporter": "python",
   "pygments_lexer": "ipython3",
   "version": "3.5.2"
  }
 },
 "nbformat": 4,
 "nbformat_minor": 1
}
