{
 "cells": [
  {
   "cell_type": "code",
   "execution_count": 2,
   "metadata": {},
   "outputs": [],
   "source": [
    "import glob\n",
    "import os\n",
    "import shutil"
   ]
  },
  {
   "cell_type": "code",
   "execution_count": 31,
   "metadata": {},
   "outputs": [],
   "source": [
    "os.chdir(\"../\")"
   ]
  },
  {
   "cell_type": "code",
   "execution_count": 32,
   "metadata": {},
   "outputs": [
    {
     "data": {
      "text/plain": [
       "635"
      ]
     },
     "execution_count": 32,
     "metadata": {},
     "output_type": "execute_result"
    }
   ],
   "source": [
    "sevenz_files = glob.glob(\"./data/games_3/*.7z\")\n",
    "len(sevenz_files)"
   ]
  },
  {
   "cell_type": "code",
   "execution_count": 34,
   "metadata": {},
   "outputs": [
    {
     "name": "stdout",
     "output_type": "stream",
     "text": [
      "FIXING SHOTS\n",
      "FILE:  0021500035.csv\n",
      "FILE:  0021500153.csv\n",
      "FILE:  0021500348.csv\n",
      "FILE:  0021500007.csv\n",
      "FILE:  0021500600.csv\n"
     ]
    },
    {
     "name": "stderr",
     "output_type": "stream",
     "text": [
      "\r",
      "  0%|          | 0/5 [00:00<?, ?it/s]"
     ]
    },
    {
     "name": "stdout",
     "output_type": "stream",
     "text": [
      "error at index 97840:  attempt to get argmax of an empty sequence\n"
     ]
    },
    {
     "name": "stderr",
     "output_type": "stream",
     "text": [
      " 40%|████      | 2/5 [02:37<03:56, 78.83s/it]"
     ]
    },
    {
     "name": "stdout",
     "output_type": "stream",
     "text": [
      "error at index 49417:  attempt to get argmax of an empty sequence\n"
     ]
    },
    {
     "name": "stderr",
     "output_type": "stream",
     "text": [
      " 80%|████████  | 4/5 [05:02<01:15, 75.91s/it]"
     ]
    },
    {
     "name": "stdout",
     "output_type": "stream",
     "text": [
      "error at index 43510:  attempt to get argmax of an empty sequence\n"
     ]
    },
    {
     "name": "stderr",
     "output_type": "stream",
     "text": [
      "100%|██████████| 5/5 [06:07<00:00, 73.41s/it]"
     ]
    },
    {
     "name": "stdout",
     "output_type": "stream",
     "text": [
      "error at index 188664:  attempt to get argmax of an empty sequence\n"
     ]
    },
    {
     "name": "stderr",
     "output_type": "stream",
     "text": [
      "\n"
     ]
    },
    {
     "name": "stdout",
     "output_type": "stream",
     "text": [
      "              GRID_TYPE     GAME_ID GAME_EVENT_ID PLAYER_ID    PLAYER_NAME  \\\n",
      "2075  Shot Chart Detail  0021500035             7    202691  Klay Thompson   \n",
      "2076  Shot Chart Detail  0021500035            50    202691  Klay Thompson   \n",
      "2077  Shot Chart Detail  0021500035           214    202691  Klay Thompson   \n",
      "2078  Shot Chart Detail  0021500035           240    202691  Klay Thompson   \n",
      "2079  Shot Chart Detail  0021500035           278    202691  Klay Thompson   \n",
      "\n",
      "         TEAM_ID              TEAM_NAME PERIOD MINUTES_REMAINING  \\\n",
      "2075  1610612744  Golden State Warriors      1                10   \n",
      "2076  1610612744  Golden State Warriors      1                 6   \n",
      "2077  1610612744  Golden State Warriors      2                 6   \n",
      "2078  1610612744  Golden State Warriors      2                 4   \n",
      "2079  1610612744  Golden State Warriors      2                 2   \n",
      "\n",
      "     SECONDS_REMAINING  ...     LOC_X     LOC_Y SHOT_ATTEMPTED_FLAG  \\\n",
      "2075                52  ... -179.2396  173.4772                   1   \n",
      "2076                57  ...  -33.1725   70.4634                   1   \n",
      "2077                11  ...  167.4073  185.9673                   1   \n",
      "2078                51  ... -193.0953  175.1704                   1   \n",
      "2079                36  ...   48.3599   18.3718                   1   \n",
      "\n",
      "     SHOT_MADE_FLAG GAME_DATE  HTM  VTM  EVENTTIME  QUARTER SHOT_TIME  \n",
      "2075              1  20151031  NOP  GSW        652      1.0    638.86  \n",
      "2076              1  20151031  NOP  GSW        417      1.0    418.27  \n",
      "2077              1  20151031  NOP  GSW        371      2.0    355.66  \n",
      "2078              1  20151031  NOP  GSW        291      2.0    294.88  \n",
      "2079              1  20151031  NOP  GSW        156      2.0    159.99  \n",
      "\n",
      "[5 rows x 27 columns]\n",
      "CREATING GAME SHOTS\n",
      "Processing file : 0021500007\n",
      "Processed 1  / 3 files\n",
      "Processing file : 0021500600\n",
      "Could not process  0021500600\n",
      "Processing file : 0021500035\n",
      "Processed 2  / 3 files\n"
     ]
    }
   ],
   "source": [
    "start = 0\n",
    "# for i in range(50,len(sevenz_files),50):\n",
    "#move 7z files from games_3 to data dir\n",
    "zip_to_move = sevenz_files[start:i]\n",
    "zip_to_move = sevenz_files[0:3]\n",
    "\n",
    "\n",
    "# for sz in zip_to_move:\n",
    "#     file_name = sz.split(\"games_3/\")[1]\n",
    "#     dest_name = \"./data/{}\".format(file_name)\n",
    "#     shutil.move(sz,dest_name)\n",
    "\n",
    "# #run setup.sh\n",
    "# os.chdir(\"./data\")\n",
    "# ! bash setup.sh\n",
    "# os.chdir(\"../movement\")\n",
    "# #run json to csv\n",
    "# print(\"CONVERTING JSON TO CSV\")\n",
    "# exec(open(\"json_to_csv.py\").read())\n",
    "# #delete .DS_Store, seems to mess up scripts\n",
    "# ! rm ../data/csv/.DS_Store\n",
    "# #run convert movement\n",
    "# print(\"CONVERTING MOVEMENT\")\n",
    "# exec(open(\"convert_movement.py\").read())\n",
    "# #again delete .DS_Store\n",
    "# ! rm ../data/converted/.DS_Store\n",
    "# #run fix_shots\n",
    "print(\"FIXING SHOTS\")\n",
    "exec(open(\"fix_shot_times.py\").read())\n",
    "#run game_df\n",
    "os.chdir(\"../\")\n",
    "print(\"CREATING GAME SHOTS\")\n",
    "exec(open(\"game_df.py\").read())\n",
    "\n",
    "#shot files should be generated, move all the 7z files\n",
    "sz_curr = glob.glob(\"./data/*.7z\")\n",
    "for sz in sz_curr:\n",
    "    file_name = sz.split(\"data/\")[1]\n",
    "    dest_name = \"./data/games_2/{}\".format(file_name)\n",
    "    shutil.move(sz,dest_name)\n",
    "#remove all the csv, converted files\n",
    "csv_to_remove = glob.glob(\"./data/csv/*.csv\")\n",
    "converted_to_remove = glob.glob(\"./data/converted/*.csv\")\n",
    "for csv in csv_to_remove:\n",
    "    os.remove(csv)\n",
    "for csv in converted_to_remove:\n",
    "    os.remove(csv)\n",
    "    \n",
    "    #start with next batch\n",
    "    start = i"
   ]
  },
  {
   "cell_type": "code",
   "execution_count": 17,
   "metadata": {},
   "outputs": [
    {
     "name": "stdout",
     "output_type": "stream",
     "text": [
      "ls: ./data/games_3/01.15.2016.MIA.at.DEN.7z: No such file or directory\r\n"
     ]
    }
   ],
   "source": []
  },
  {
   "cell_type": "code",
   "execution_count": null,
   "metadata": {},
   "outputs": [],
   "source": []
  }
 ],
 "metadata": {
  "kernelspec": {
   "display_name": "Python 3",
   "language": "python",
   "name": "python3"
  },
  "language_info": {
   "codemirror_mode": {
    "name": "ipython",
    "version": 3
   },
   "file_extension": ".py",
   "mimetype": "text/x-python",
   "name": "python",
   "nbconvert_exporter": "python",
   "pygments_lexer": "ipython3",
   "version": "3.7.7"
  }
 },
 "nbformat": 4,
 "nbformat_minor": 4
}
