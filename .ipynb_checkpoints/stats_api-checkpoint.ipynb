{
 "cells": [
  {
   "cell_type": "code",
   "execution_count": 24,
   "metadata": {
    "collapsed": true
   },
   "outputs": [],
   "source": [
    "import numpy as np\n",
    "import pandas as pd\n",
    "import json\n",
    "import time"
   ]
  },
  {
   "cell_type": "code",
   "execution_count": 15,
   "metadata": {
    "collapsed": true
   },
   "outputs": [],
   "source": [
    "from nba_api.stats.endpoints import playercareerstats\n",
    "from nba_api.stats.endpoints import playerdashptshots\n",
    "from nba_api.stats.endpoints import playerdashboardbyshootingsplits\n",
    "from nba_api.stats.static import players\n",
    "from nba_api.stats.endpoints import commonteamroster\n",
    "from nba_api.stats.static import teams\n"
   ]
  },
  {
   "cell_type": "markdown",
   "metadata": {},
   "source": [
    "Get player career fgm and fga for each 5 foot range the NBA provides."
   ]
  },
  {
   "cell_type": "code",
   "execution_count": 4,
   "metadata": {
    "collapsed": true
   },
   "outputs": [],
   "source": [
    "def get_team_ids():\n",
    "    '''get all teams in the nba'''\n",
    "    nba_teams = teams.get_teams()\n",
    "    teams_list = []\n",
    "    for team in nba_teams:\n",
    "        teams_list.append(team['id'])\n",
    "    return teams_list"
   ]
  },
  {
   "cell_type": "code",
   "execution_count": 25,
   "metadata": {
    "collapsed": true
   },
   "outputs": [],
   "source": [
    "def get_players(teams_list):\n",
    "    '''get all players on each team in 2015-16 '''\n",
    "    players_list = []\n",
    "    for team_id in teams_list:\n",
    "        roster = commonteamroster.CommonTeamRoster(team_id = team_id,season='2015-16')\n",
    "        players_list.extend(list(roster.get_data_frames()[0]['PLAYER_ID'].values))\n",
    "        time.sleep(5)\n",
    "    return players_list"
   ]
  },
  {
   "cell_type": "code",
   "execution_count": 41,
   "metadata": {
    "collapsed": true
   },
   "outputs": [],
   "source": [
    "def get_seasons(player_id):\n",
    "    '''\n",
    "    Get all the seasons a player played in (before 2015-16)\n",
    "    '''\n",
    "    career = playercareerstats.PlayerCareerStats(player_id=player_id)\n",
    "    df = career.get_data_frames()[0]\n",
    "    #we want all shots before this seasons\n",
    "    df = df[df['SEASON_ID'] < '2015-16']\n",
    "    seasons = list(df['SEASON_ID'].values)\n",
    "    return seasons"
   ]
  },
  {
   "cell_type": "code",
   "execution_count": 47,
   "metadata": {
    "collapsed": true
   },
   "outputs": [],
   "source": [
    "def all_player_seasons(players_list):\n",
    "    '''\n",
    "    Get all seasons played in for all players\n",
    "    '''\n",
    "    player_seasons = {}\n",
    "    for player_id in players_list:\n",
    "        seasons = get_seasons(player_id)\n",
    "        player_seasons[player_id] = seasons\n",
    "        #hvae to sleep or else the NBA shuts us down\n",
    "        time.sleep(2)\n",
    "    return player_seasons"
   ]
  },
  {
   "cell_type": "code",
   "execution_count": 109,
   "metadata": {
    "collapsed": true
   },
   "outputs": [],
   "source": [
    "def player_shooting(player_id,seasons):\n",
    "    '''\n",
    "    Get player shootings stats for each of the shot ranges below\n",
    "    \n",
    "    '''\n",
    "    player_shooting = {}\n",
    "    print(\"Getting shots for player {}\".format(player_id))\n",
    "    shot_ranges = ['0-4','5-9','10-14','15-19','20-24','25-29','30-34','40+']\n",
    "    player_shots = np.zeros((9,2))\n",
    "    #loop through each season, adding shooting totals at each distance\n",
    "    for season in seasons:\n",
    "        pds = playerdashboardbyshootingsplits.PlayerDashboardByShootingSplits(player_id = player_id,season=season)\n",
    "        shots = pds.get_data_frames()[1][['FGM','FGA']].values\n",
    "        #sometimes data is missing, seems like it is always for the 40+ foot range (where they likely took no shots)\n",
    "        #not missing = 9 rows, missing = 8 rows\n",
    "        if shots.shape == (9,2):\n",
    "            player_shots = player_shots + shots\n",
    "        elif shots.shape == (8,2):\n",
    "            #just add a column of 0s to the end, should not change much\n",
    "            shots = np.concatenate((shots,np.zeros((1,2))),0)\n",
    "            player_shots = player_shots + shots\n",
    "        else:\n",
    "            print(\"Player {} has weird shots in season {} \".format(player_id,season))\n",
    "        #again, have to sleep or the NBA will shut us down\n",
    "        #I blame Adam Silver\n",
    "        time.sleep(2)\n",
    "    #returning dictionary that maps player id to 9x2 np array\n",
    "    player_shooting[\"player_id\"] = player_id\n",
    "    #create a dictionary mapping shot ranges to makes attempts\n",
    "    for sr,row in zip(shot_ranges, player_shots):\n",
    "        player_shooting[sr+\"_fgm\"] = row[0]\n",
    "        player_shooting[sr+\"_fga\"] = row[1]\n",
    "    return player_shooting"
   ]
  },
  {
   "cell_type": "code",
   "execution_count": 9,
   "metadata": {
    "collapsed": true
   },
   "outputs": [],
   "source": [
    "#get all team ids\n",
    "teams_list = get_team_ids()\n",
    "#get all players from 2015-16 season\n",
    "players_list = get_players(teams_list)\n",
    "#get all the seasons prior to 2015-16 each player has played in, mapped to each player id\n",
    "player_seasons = all_player_seasons(players_list)\n",
    "#get shooting splits by distance for each player across their whole career\n",
    "all_player_shots = []\n",
    "num_players = len(players_list)\n",
    "players_finished = 0\n",
    "for player_id in player_seasons:\n",
    "    all_player_shots.append(player_shooting(player_id,player_seasons[player_id]))\n",
    "    players_finished += 1\n",
    "    print(\"Got shots for {} / {} players\".format(players_finished,num_players))  \n",
    "    \n",
    "    if players_finished % 20 == 0:\n",
    "        player_shots_df = pd.DataFrame(all_player_shots,columns = ['player_id','0-4_fgm','0-4_fga','5-9_fgm','5-9_fga',\n",
    "                                                      '10-14_fgm','10-14_fga','15-19_fgm','15-19_fga','20-24_fgm',\n",
    "                                                      '20-24_fga','25-29_fgm','25-29_fga','30-34_fgm','30-34_fga',\n",
    "                                                      '40+_fgm','40+_fga',])\n",
    "        player_shots_df.to_csv(\"../data/player_shots.csv\")"
   ]
  },
  {
   "cell_type": "markdown",
   "metadata": {},
   "source": [
    "Sometimes the API will straight up not work, rerun the program for the few players (~10) it didn't work for"
   ]
  },
  {
   "cell_type": "code",
   "execution_count": 118,
   "metadata": {
    "collapsed": true
   },
   "outputs": [],
   "source": [
    "ps_players= player_shots_df['player_id'].values.astype(\"int64\")"
   ]
  },
  {
   "cell_type": "code",
   "execution_count": 123,
   "metadata": {
    "collapsed": true
   },
   "outputs": [],
   "source": [
    "redo =[]\n",
    "for item in players_list:\n",
    "    if item not in ps_players:\n",
    "        redo.append(item)"
   ]
  },
  {
   "cell_type": "code",
   "execution_count": 136,
   "metadata": {
    "collapsed": true
   },
   "outputs": [],
   "source": [
    "pkeys = list(player_seasons.keys())\n",
    "redo_players = {}\n",
    "for key in pkeys:\n",
    "    if int(key) in redo:\n",
    "        redo_players[key] = player_seasons[key]"
   ]
  },
  {
   "cell_type": "code",
   "execution_count": 155,
   "metadata": {
    "collapsed": false
   },
   "outputs": [
    {
     "name": "stdout",
     "output_type": "stream",
     "text": [
      "Getting shots for player 202682\n",
      "Got shots for 1 / 10 players\n",
      "Getting shots for player 202498\n",
      "Player 202498 has weird shots in season 2013-14 \n",
      "Got shots for 2 / 10 players\n",
      "Getting shots for player 203932\n",
      "Got shots for 3 / 10 players\n",
      "Getting shots for player 203473\n",
      "Got shots for 4 / 10 players\n",
      "Getting shots for player 203901\n",
      "Got shots for 5 / 10 players\n",
      "Getting shots for player 203506\n",
      "Got shots for 6 / 10 players\n",
      "Getting shots for player 101141\n",
      "Got shots for 7 / 10 players\n",
      "Getting shots for player 202696\n",
      "Got shots for 8 / 10 players\n",
      "Getting shots for player 203095\n",
      "Got shots for 9 / 10 players\n"
     ]
    }
   ],
   "source": [
    "#get shooting splits by distance for each player across their whole career\n",
    "all_player_shots_redo = []\n",
    "num_players = len(redo)\n",
    "players_finished = 0\n",
    "for player_id in redo_players:\n",
    "    all_player_shots_redo.append(player_shooting(player_id,redo_players[player_id]))\n",
    "    players_finished += 1\n",
    "    print(\"Got shots for {} / {} players\".format(players_finished,num_players))  \n",
    "    \n",
    "    if players_finished % 4 == 0:\n",
    "        redo_player_shots_df = pd.DataFrame(all_player_shots_redo,columns = ['player_id','0-4_fgm','0-4_fga','5-9_fgm','5-9_fga',\n",
    "                                                      '10-14_fgm','10-14_fga','15-19_fgm','15-19_fga','20-24_fgm',\n",
    "                                                      '20-24_fga','25-29_fgm','25-29_fga','30-34_fgm','30-34_fga',\n",
    "                                                      '40+_fgm','40+_fga',])\n",
    "        redo_player_shots_df.to_csv(\"../data/redo_player_shots.csv\")"
   ]
  },
  {
   "cell_type": "code",
   "execution_count": 163,
   "metadata": {
    "collapsed": true
   },
   "outputs": [],
   "source": [
    "#concatenate with other players shots, save to csv\n",
    "pd.concat([player_shots_df,redo_player_shots_df]).to_csv(\"../data/player_shots.csv\")"
   ]
  },
  {
   "cell_type": "code",
   "execution_count": null,
   "metadata": {
    "collapsed": true
   },
   "outputs": [],
   "source": []
  }
 ],
 "metadata": {
  "anaconda-cloud": {},
  "kernelspec": {
   "display_name": "Python [default]",
   "language": "python",
   "name": "python3"
  },
  "language_info": {
   "codemirror_mode": {
    "name": "ipython",
    "version": 3
   },
   "file_extension": ".py",
   "mimetype": "text/x-python",
   "name": "python",
   "nbconvert_exporter": "python",
   "pygments_lexer": "ipython3",
   "version": "3.5.2"
  }
 },
 "nbformat": 4,
 "nbformat_minor": 4
}
